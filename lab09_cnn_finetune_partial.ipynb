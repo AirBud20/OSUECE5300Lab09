{
 "cells": [
  {
   "cell_type": "markdown",
   "metadata": {},
   "source": [
    " # Lab 09:  Transfer Learning with a Pre-Trained Deep Neural Network\n",
    "\n",
    "As we discussed earlier, state-of-the-art neural networks involve millions of parameters that are prohibitively difficult to train from scratch.  In this lab, we will illustrate a powerful technique called *transfer learning*, where we start with a large pre-trained network and then re-train only the final layers to adapt it to a new task.  The method is also called *fine-tuning* and can produce excellent results on very small datasets with very little computational time.  \n",
    "\n",
    "This lab is based partially on this\n",
    "[excellent blog](https://blog.keras.io/building-powerful-image-classification-models-using-very-little-data.html), althought the details there are for Keras, not PyTorch.  In performing this lab, you will learn to:\n",
    "* Build a custom image dataset\n",
    "* Fine tune the final layers of an existing deep neural network for a new classification task.\n",
    "\n",
    "You may run the lab on a CPU machine (like a laptop) or a GPU.  See the [notes](../GCP/readme.md) on setting up a GPU instance on Google Cloud Platform.  The GPU training is much faster (< 1 minute).  But, even the CPU training time should be < 20 minutes."
   ]
  },
  {
   "cell_type": "markdown",
   "metadata": {},
   "source": [
    "## Create a Dataset\n",
    "\n",
    "In this lab, we will train a network to discriminate between two classes:  `cars` and `bicycles`.  One could imagine that this type of network could be useful in vehicle vision systems.   The first task is to build a dataset.  For this, please follow the directions in [demo_cnn_flickr](../Demos/demo_cnn_flickr.ipynb)  \n",
    "\n",
    "TODO:  Create training and test directories with:\n",
    "* 1000 training images of cars\n",
    "* 1000 training images of bicylces\n",
    "* 300 test images of cars\n",
    "* 300 test images of bicycles\n",
    "* The images don't need to be the same size.\n",
    "\n",
    "The images should be organized in the following directory structure:\n",
    "\n",
    "    ./train\n",
    "        /car\n",
    "           car_0000.jpg\n",
    "           car_0001.jpg\n",
    "           ...\n",
    "           car_0999.jpg\n",
    "        /bicycle\n",
    "           bicycle_0000.jpg\n",
    "           bicycle_0001.jpg\n",
    "           ...\n",
    "           bicycle_0999.jpg\n",
    "    ./test\n",
    "        /car\n",
    "           car_0000.jpg\n",
    "           car_0001.jpg\n",
    "           ...\n",
    "           car_0299.jpg\n",
    "        /bicycle\n",
    "           bicycle_0000.jpg\n",
    "           bicycle_0001.jpg\n",
    "           ...\n",
    "           bicycle_0299.jpg\n",
    "                "
   ]
  },
  {
   "cell_type": "markdown",
   "metadata": {},
   "source": [
    "Now we'll select the image dimensions for our neural network.  They need not be the same as those of the downloaded images, or even the 224x224 size that the network was optimized for, but they should be small enough to work on your machine without taking forever.  If you have a CPU machine, a good choice is 64 x 64. But if you have a GPU image, then you can use a larger image size, like 150 x 150."
   ]
  },
  {
   "cell_type": "code",
   "execution_count": 7,
   "metadata": {},
   "outputs": [
    {
     "name": "stdout",
     "output_type": "stream",
     "text": [
      "Will store train images in directory train/bicycle\n",
      "Will store test images in directory test/bicycle\n",
      "Will store train images in directory train/car\n",
      "Will store test images in directory test/car\n"
     ]
    }
   ],
   "source": [
    "import numpy as np\n",
    "import matplotlib.pyplot as plt\n",
    "%matplotlib inline\n",
    "import skimage.io\n",
    "import skimage.transform\n",
    "import urllib\n",
    "import requests\n",
    "from io import BytesIO\n",
    "import flickrapi\n",
    "\n",
    "\n",
    "nrow = 64\n",
    "ncol = 64\n",
    "\n",
    "api_key = '06bf94813ad72e5e077dd720a0d92af5'\n",
    "api_secret = '5ce314e260a16952'\n",
    "keyword = ['bicycle', 'car']\n",
    "flickr = flickrapi.FlickrAPI(api_key, api_secret)\n",
    "for word in keyword:   \n",
    "\n",
    "    photos = flickr.walk(text=word, tag_mode='all', tags=word,extras='url_c',\\\n",
    "                         sort='relevance',per_page=100)\n",
    "    import os\n",
    "\n",
    "    # declare directory names\n",
    "    train_dir = 'train'\n",
    "    test_dir = 'test'\n",
    "    image_dir = word\n",
    "\n",
    "    # make a directories for the training and testing images\n",
    "    for root_dir in [train_dir,test_dir]:\n",
    "        dir_path = root_dir + '/' + image_dir\n",
    "\n",
    "        # check if data exists\n",
    "        if not os.path.isdir(root_dir):\n",
    "            os.mkdir(root_dir)\n",
    "        if not os.path.isdir(dir_path):\n",
    "            os.mkdir(dir_path)\n",
    "            print(\"Making directory %s\" % dir_path)\n",
    "        else:\n",
    "            print(\"Will store %s images in directory %s\" %(root_dir,dir_path))\n",
    "\n",
    "    import warnings\n",
    "    from random import seed\n",
    "    from random import random\n",
    "\n",
    "    ntrain = 1000 # number of training images to download\n",
    "    ntest = 300 # number of testing images to download\n",
    "\n",
    "    # download images, first train then test\n",
    "    seed(1) # make repeatable\n",
    "    itrain = 0 # initialize counter\n",
    "    itest = 0 # initialize counter\n",
    "\n",
    "    for photo in photos:\n",
    "        url=photo.get('url_c')\n",
    "        if not (url is None):\n",
    "\n",
    "            # Create a file from the URL\n",
    "            # This may only work in Python3\n",
    "            response = requests.get(url)\n",
    "            file = BytesIO(response.content)\n",
    "\n",
    "            # Read image from file\n",
    "            im = skimage.io.imread(file)\n",
    "\n",
    "            # Resize images\n",
    "            im1 = skimage.transform.resize(im,(nrow,ncol),mode='constant')\n",
    "\n",
    "            # Convert to uint8, suppress the warning about the precision loss\n",
    "            with warnings.catch_warnings():\n",
    "                warnings.simplefilter(\"ignore\")\n",
    "                im2 = skimage.img_as_ubyte(im1)\n",
    "\n",
    "            # Set the directory randomly \n",
    "            #if (random()< ntrain/(ntrain+ntest)):\n",
    "            if (random()< (ntrain-itrain)/(ntrain-itrain + ntest-itest + 1e-15)):\n",
    "                if (itrain<ntrain):\n",
    "                    dir_path = train_dir + '/' + image_dir\n",
    "                    i = itrain\n",
    "                    itrain = itrain + 1\n",
    "                elif (itest<ntest):\n",
    "                    dir_path = test_dir + '/' + image_dir\n",
    "                    i = itest\n",
    "                    itest = itest + 1\n",
    "                else:\n",
    "                    break\n",
    "            else:\n",
    "                if (itest<ntest):\n",
    "                    dir_path = test_dir + '/' + image_dir\n",
    "                    i = itest\n",
    "                    itest = itest + 1\n",
    "                elif (itrain<ntrain):\n",
    "                    dir_path = train_dir + '/' + image_dir\n",
    "                    i = itrain\n",
    "                    itrain = itrain + 1\n",
    "                else:\n",
    "                    break            \n",
    "\n",
    "            # Save the image\n",
    "            local_name = '{0:s}/{1:s}_{2:04d}.jpg'.format(dir_path,word,i)  \n",
    "            skimage.io.imsave(local_name, im2)     "
   ]
  },
  {
   "cell_type": "markdown",
   "metadata": {},
   "source": [
    "## Using the DataLoader with ImageFolder\n",
    "\n",
    "We will now create an `ImageFolder` object, like in the [VGG demo](../Demos/demo_cnn_vgg16.ipynb) of this unit.\n",
    "As we did in that demo, we will use a `torchvision.transform` to preprocess the data when training our network.\n",
    "\n",
    "For this lab, randomly crop a section of between 0.5 and 1 of the original image size, and then resize it to nrow x ncol pixels.\n",
    "\n",
    "Also, use the following normalization (the default for ImageNet):\n",
    "\n",
    "`transforms.Normalize([0.485, 0.456, 0.406], [0.229, 0.224, 0.225]) `"
   ]
  },
  {
   "cell_type": "code",
   "execution_count": 2,
   "metadata": {},
   "outputs": [],
   "source": [
    "from torchvision.datasets import ImageFolder\n",
    "from torch.utils.data import DataLoader\n",
    "import torchvision.transforms as transforms\n",
    "import torch.utils.data\n",
    "nrow = 64\n",
    "ncol = 64\n",
    "ntrain = 1000 # number of training images to download\n",
    "ntest = 300 # number of testing images to download\n",
    "# TODO\n",
    "# data_transform = ...\n",
    "data_transform = transforms.Compose([transforms.RandomResizedCrop((nrow,ncol), scale=(0.5, 1.0)),  transforms.ToTensor(), transforms.Normalize([0.485, 0.456, 0.406], [0.229, 0.224, 0.225])])\n",
    "# TODO\n",
    "# train_ds = ...\n",
    "# train_dl = ...\n",
    "# Create data set using ImageFolder\n",
    "train_ds = ImageFolder('./train', transform = data_transform)\n",
    "train_dl = torch.utils.data.DataLoader(train_ds, batch_size = ntrain*2)"
   ]
  },
  {
   "cell_type": "markdown",
   "metadata": {},
   "source": [
    "Now, create a `test_dl` object for the test data, using the same data transform as for the training."
   ]
  },
  {
   "cell_type": "code",
   "execution_count": 3,
   "metadata": {},
   "outputs": [],
   "source": [
    "# Create test data loader similar to above\n",
    "test_data_dir = './test'\n",
    "test_ds = ImageFolder(test_data_dir, transform=data_transform)\n",
    "test_dl = torch.utils.data.DataLoader(test_ds, batch_size=ntest*2)\n"
   ]
  },
  {
   "cell_type": "markdown",
   "metadata": {},
   "source": [
    "The following image display function will be useful later."
   ]
  },
  {
   "cell_type": "code",
   "execution_count": 4,
   "metadata": {},
   "outputs": [],
   "source": [
    "import matplotlib.pyplot as plt\n",
    "import numpy as np\n",
    "%matplotlib inline\n",
    "\n",
    "#### Code from https://pytorch.org/tutorials/beginner/transfer_learning_tutorial.html #####\n",
    "def imshow(inp, title=None):\n",
    "    \"\"\"Imshow for Tensor.\"\"\"\n",
    "    inp = inp.numpy().transpose((1, 2, 0)) # rearrange dimensions from (color,y,x) -> (y,x,color)\n",
    "    mean = np.array([0.485, 0.456, 0.406])\n",
    "    std = np.array([0.229, 0.224, 0.225])\n",
    "    inp = std * inp + mean # undo the normalization\n",
    "    inp = np.clip(inp, 0, 1)\n",
    "    # Display image, without ticks\n",
    "    plt.imshow(inp)\n",
    "    plt.xticks([])\n",
    "    plt.yticks([])\n",
    "    if title is not None:\n",
    "        plt.title(title)\n",
    "\n",
    "###########################################################################################"
   ]
  },
  {
   "cell_type": "markdown",
   "metadata": {},
   "source": [
    "To see how the `train_dl` works, use the `next(iter(train_dl))` method to get a minibatch of data `X,y`.  Display the first 8 images in this mini-batch and label the image with its class label.  You should see that bicycles have `y=0` and cars have `y=1`."
   ]
  },
  {
   "cell_type": "code",
   "execution_count": 5,
   "metadata": {},
   "outputs": [
    {
     "name": "stdout",
     "output_type": "stream",
     "text": [
      "torch.Size([2000])\n"
     ]
    },
    {
     "data": {
      "image/png": "[encoded data removed]",
      "text/plain": [
       "<Figure size 432x288 with 1 Axes>"
      ]
     },
     "metadata": {},
     "output_type": "display_data"
    }
   ],
   "source": [
    "# TODO\n",
    "from torchvision.utils import make_grid\n",
    "x,y = next(iter(train_dl))\n",
    "imshow(make_grid(x[0:8,:,:,:]),y[0:8])\n",
    "print(y.shape)"
   ]
  },
  {
   "cell_type": "markdown",
   "metadata": {},
   "source": [
    "## Loading a Pre-Trained Deep Network\n",
    "\n",
    "Follow the [VGG16 demo](./vgg16.ipynb) to load a pre-trained VGG16 network.  Rember to set `pretrained=True` in order to also load the pre-trained weights."
   ]
  },
  {
   "cell_type": "code",
   "execution_count": 6,
   "metadata": {},
   "outputs": [],
   "source": [
    "import torch\n",
    "from torchvision.models import vgg16\n",
    "\n",
    "# TODO:  Load the VGG16 network\n",
    "# model = ...\n",
    "import torchvision.models as models\n",
    "model = models.vgg16(pretrained=True)"
   ]
  },
  {
   "cell_type": "markdown",
   "metadata": {},
   "source": [
    "Now, freeze the parameters of the pretrained model.  To do this, loop over the parameters in the model and set their `requires_grad` flag to `False`. This will stop PyTorch from calculating the gradient for those parameters and stop them from being updated by the optimizer."
   ]
  },
  {
   "cell_type": "code",
   "execution_count": 7,
   "metadata": {},
   "outputs": [],
   "source": [
    "# TODO freeze layers\n",
    "for param in model.features.parameters(): \n",
    "    param.requires_grad = False"
   ]
  },
  {
   "cell_type": "markdown",
   "metadata": {},
   "source": [
    "Remember, from the VGG16 demo, that the network has a `features` portion, with convolutional layers, and a `classifier` portion, with fully connected layers.  We will keeping the features portion but replace the classifier portion.  The idea is that the features portion, which was trained on all of ImageNet, will generate useful features for any image classification task, such as differentiating cars and bikes.\n",
    "\n",
    "In order to replace the classifier portion, we first need to find the size of the input to the classifier portion of the network, so that we can build our own with the proper size.  You can do this using"
   ]
  },
  {
   "cell_type": "code",
   "execution_count": 8,
   "metadata": {},
   "outputs": [
    {
     "name": "stdout",
     "output_type": "stream",
     "text": [
      "Linear(in_features=25088, out_features=4096, bias=True)\n"
     ]
    }
   ],
   "source": [
    "print(model.classifier[0])"
   ]
  },
  {
   "cell_type": "markdown",
   "metadata": {},
   "source": [
    "Replace `model.classifier` with a neural network consisting of the following layers:\n",
    "* Linear w/ 256 output channels\n",
    "* ReLU\n",
    "* Dropout w/ p = 0.5\n",
    "* Linear w/ 1 output channel (indicating car vs bike)\n",
    "* Sigmoid\n",
    "\n",
    "This network can be constructed using 1 line via `nn.Sequential`, like in [demo_cnn_autoencoder](../Demos/demo_cnn_autoencoder.ipynb)."
   ]
  },
  {
   "cell_type": "code",
   "execution_count": 9,
   "metadata": {},
   "outputs": [],
   "source": [
    "import torch.nn as nn\n",
    "\n",
    "# TODO Replace the classifier part of the network\n",
    "# model.classifier = ...\n",
    "model.classifier = nn.Sequential(\n",
    "        nn.Linear(25088, out_features = 256),\n",
    "        nn.ReLU(),\n",
    "        nn.Dropout(p=.5),\n",
    "        nn.Linear(25088, out_features = 1),\n",
    "        nn.Sigmoid()\n",
    "        )"
   ]
  },
  {
   "cell_type": "markdown",
   "metadata": {},
   "source": [
    "Now we will print a summary of the model.\n",
    "Confirm that it includes a features portion and a classifier portion, each constructed by a Sequential() object.\n",
    "The features portion should be the same as the VGG network, and the classifier portion should consist of the following sequence of Modules: Linear, Relu, Dropout, Linear, Sigmoid."
   ]
  },
  {
   "cell_type": "code",
   "execution_count": 10,
   "metadata": {},
   "outputs": [
    {
     "name": "stdout",
     "output_type": "stream",
     "text": [
      "VGG(\n",
      "  (features): Sequential(\n",
      "    (0): Conv2d(3, 64, kernel_size=(3, 3), stride=(1, 1), padding=(1, 1))\n",
      "    (1): ReLU(inplace=True)\n",
      "    (2): Conv2d(64, 64, kernel_size=(3, 3), stride=(1, 1), padding=(1, 1))\n",
      "    (3): ReLU(inplace=True)\n",
      "    (4): MaxPool2d(kernel_size=2, stride=2, padding=0, dilation=1, ceil_mode=False)\n",
      "    (5): Conv2d(64, 128, kernel_size=(3, 3), stride=(1, 1), padding=(1, 1))\n",
      "    (6): ReLU(inplace=True)\n",
      "    (7): Conv2d(128, 128, kernel_size=(3, 3), stride=(1, 1), padding=(1, 1))\n",
      "    (8): ReLU(inplace=True)\n",
      "    (9): MaxPool2d(kernel_size=2, stride=2, padding=0, dilation=1, ceil_mode=False)\n",
      "    (10): Conv2d(128, 256, kernel_size=(3, 3), stride=(1, 1), padding=(1, 1))\n",
      "    (11): ReLU(inplace=True)\n",
      "    (12): Conv2d(256, 256, kernel_size=(3, 3), stride=(1, 1), padding=(1, 1))\n",
      "    (13): ReLU(inplace=True)\n",
      "    (14): Conv2d(256, 256, kernel_size=(3, 3), stride=(1, 1), padding=(1, 1))\n",
      "    (15): ReLU(inplace=True)\n",
      "    (16): MaxPool2d(kernel_size=2, stride=2, padding=0, dilation=1, ceil_mode=False)\n",
      "    (17): Conv2d(256, 512, kernel_size=(3, 3), stride=(1, 1), padding=(1, 1))\n",
      "    (18): ReLU(inplace=True)\n",
      "    (19): Conv2d(512, 512, kernel_size=(3, 3), stride=(1, 1), padding=(1, 1))\n",
      "    (20): ReLU(inplace=True)\n",
      "    (21): Conv2d(512, 512, kernel_size=(3, 3), stride=(1, 1), padding=(1, 1))\n",
      "    (22): ReLU(inplace=True)\n",
      "    (23): MaxPool2d(kernel_size=2, stride=2, padding=0, dilation=1, ceil_mode=False)\n",
      "    (24): Conv2d(512, 512, kernel_size=(3, 3), stride=(1, 1), padding=(1, 1))\n",
      "    (25): ReLU(inplace=True)\n",
      "    (26): Conv2d(512, 512, kernel_size=(3, 3), stride=(1, 1), padding=(1, 1))\n",
      "    (27): ReLU(inplace=True)\n",
      "    (28): Conv2d(512, 512, kernel_size=(3, 3), stride=(1, 1), padding=(1, 1))\n",
      "    (29): ReLU(inplace=True)\n",
      "    (30): MaxPool2d(kernel_size=2, stride=2, padding=0, dilation=1, ceil_mode=False)\n",
      "  )\n",
      "  (avgpool): AdaptiveAvgPool2d(output_size=(7, 7))\n",
      "  (classifier): Sequential(\n",
      "    (0): Linear(in_features=25088, out_features=256, bias=True)\n",
      "    (1): ReLU()\n",
      "    (2): Dropout(p=0.5, inplace=False)\n",
      "    (3): Linear(in_features=25088, out_features=1, bias=True)\n",
      "    (4): Sigmoid()\n",
      "  )\n",
      ")\n"
     ]
    }
   ],
   "source": [
    "print(str(model))"
   ]
  },
  {
   "cell_type": "markdown",
   "metadata": {},
   "source": [
    "## Train the Model\n",
    "\n",
    "Select the correct loss function and an optimizer to train the model. Remember that we are doing *binary* classification."
   ]
  },
  {
   "cell_type": "code",
   "execution_count": 11,
   "metadata": {},
   "outputs": [],
   "source": [
    "import torch.optim as optim\n",
    "\n",
    "lr = 1e-3\n",
    "\n",
    "# TODO\n",
    "# criterion = ...\n",
    "# opt = ...\n",
    "criterion = nn.BCELoss()\n",
    "opt = optim.Adam(model.parameters(), lr= lr)"
   ]
  },
  {
   "cell_type": "markdown",
   "metadata": {},
   "source": [
    "Now, run the training.  If you are using a CPU on a regular laptop, each epoch should take about 1-4 minutes, so you should be able to finish 5 epochs or so within 5-20 minutes.  On a reasonable GPU, even with 150 x 150 images, it should take about 10 seconds per epoch.  If you use `(nrow,ncol) = (64,64)` images, you should get about 90-95% accuracy after 5 epochs."
   ]
  },
  {
   "cell_type": "code",
   "execution_count": null,
   "metadata": {
    "scrolled": true
   },
   "outputs": [],
   "source": [
    "# TODO\n",
    "#COMPUTER CRASHED EVERYTIME I TRIED TO RUN\n",
    "\n",
    "num_epoch = 5\n",
    "a_tr_loss = np.zeros([num_epoch])\n",
    "a_tr_accuracy = np.zeros([num_epoch])\n",
    "a_ts_loss = np.zeros([num_epoch])\n",
    "a_ts_accuracy = np.zeros([num_epoch])\n",
    "\n",
    "for epoch in range(num_epoch):\n",
    "    model.train() # put model in training mode\n",
    "    correct = 0 # initialize error counter\n",
    "    total = 0 # initialize total counter\n",
    "    # iterate over training set\n",
    "    for train_iter, data in enumerate(train_dl):\n",
    "        x_batch,y_batch = data\n",
    "        y_batch = y_batch.type(torch.long)\n",
    "        out = model(x_batch)\n",
    "        # Compute Loss\n",
    "        loss = criterion(out,y_batch)\n",
    "        a_tr_loss.append(loss.item())\n",
    "        # Compute gradients using back propagation\n",
    "        opt.zero_grad()\n",
    "        loss.backward()\n",
    "        # Take an optimization 'step'\n",
    "        opt.step()\n",
    "        # Do hard classification: index of largest score\n",
    "        _, predicted = torch.max(out.data, 1)\n",
    "        # Compute number of decision errors\n",
    "        total += y_batch.size(0)\n",
    "        correct += (predicted == y_batch).sum().item()\n",
    "        \n",
    "    a_tr_accuracy.append( 100*correct/total )\n",
    "    \n",
    "    model.eval() # put model in evaluation mode\n",
    "    correct = 0\n",
    "    total = 0\n",
    "    with torch.no_grad():\n",
    "        for data in test_dl:\n",
    "            images, labels = data\n",
    "            labels = labels.type(torch.long)\n",
    "            outputs = model(images)\n",
    "            loss = criterion(outputs,labels)\n",
    "            a_ts_loss.append(loss.item())\n",
    "            _, predicted = torch.max(outputs.data, 1)\n",
    "            total += labels.size(0)\n",
    "            correct += (predicted == labels).sum().item()\n",
    "    \n",
    "    a_ts_accuracy.append( 100*correct/total )\n",
    "    \n",
    "    # Print details every print_mod epoch\n",
    "    print('Epoch: {0:2d}   Train Loss: {1:.3f}   '.format(epoch+1, a_tr_loss[epoch])\n",
    "          +'Train Accuracy: {0:.2f}    Test Loss: {1:.3f}   '.format(a_tr_accuracy[epoch], a_ts_loss[epoch])\n",
    "          +'Test Accuracy: {0:.2f}'.format(a_ts_accuracy[epoch]))"
   ]
  },
  {
   "cell_type": "markdown",
   "metadata": {},
   "source": [
    "Finally, show some example test images with their predicted and actual labels in the title."
   ]
  },
  {
   "cell_type": "code",
   "execution_count": null,
   "metadata": {},
   "outputs": [],
   "source": [
    "n_show = 8\n",
    "# TODO\n"
   ]
  },
  {
   "cell_type": "code",
   "execution_count": null,
   "metadata": {},
   "outputs": [],
   "source": []
  }
 ],
 "metadata": {
  "kernelspec": {
   "display_name": "Python 3",
   "language": "python",
   "name": "python3"
  },
  "language_info": {
   "codemirror_mode": {
    "name": "ipython",
    "version": 3
   },
   "file_extension": ".py",
   "mimetype": "text/x-python",
   "name": "python",
   "nbconvert_exporter": "python",
   "pygments_lexer": "ipython3",
   "version": "3.7.4"
  },
  "varInspector": {
   "cols": {
    "lenName": 16,
    "lenType": 16,
    "lenVar": 40
   },
   "kernels_config": {
    "python": {
     "delete_cmd_postfix": "",
     "delete_cmd_prefix": "del ",
     "library": "var_list.py",
     "varRefreshCmd": "print(var_dic_list())"
    },
    "r": {
     "delete_cmd_postfix": ") ",
     "delete_cmd_prefix": "rm(",
     "library": "var_list.r",
     "varRefreshCmd": "cat(var_dic_list()) "
    }
   },
   "types_to_exclude": [
    "module",
    "function",
    "builtin_function_or_method",
    "instance",
    "_Feature"
   ],
   "window_display": false
  }
 },
 "nbformat": 4,
 "nbformat_minor": 2
}
